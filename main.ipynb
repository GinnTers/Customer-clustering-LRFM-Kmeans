{
 "cells": [
  {
   "cell_type": "code",
   "execution_count": 1,
   "metadata": {
    "id": "RXGpIqvP00OS"
   },
   "outputs": [],
   "source": [
    "from google.colab import files\n",
    "import pandas as pd\n",
    "import numpy as np\n",
    "from sklearn.cluster import KMeans\n",
    "from sklearn.preprocessing import MinMaxScaler\n",
    "from statsmodels.multivariate.manova import MANOVA\n",
    "from statsmodels.formula.api import ols\n",
    "from statsmodels.stats.anova import anova_lm\n",
    "from statsmodels.stats.multicomp import pairwise_tukeyhsd\n",
    "import matplotlib.pyplot as plt\n",
    "import seaborn as sns"
   ]
  },
  {
   "cell_type": "markdown",
   "metadata": {},
   "source": [
    "# (1) Chuẩn bị và tiền xử lý dữ liệu"
   ]
  },
  {
   "cell_type": "code",
   "execution_count": null,
   "metadata": {
    "colab": {
     "base_uri": "https://localhost:8080/",
     "height": 71
    },
    "id": "229bN9Cm1FyU",
    "outputId": "bd02ad98-03f7-4282-811f-8028eac8356d"
   },
   "outputs": [
    {
     "data": {
      "text/html": [
       "\n",
       "     <input type=\"file\" id=\"files-6b517822-b02b-4cb7-9eab-288d248efcf0\" name=\"files[]\" multiple disabled\n",
       "        style=\"border:none\" />\n",
       "     <output id=\"result-6b517822-b02b-4cb7-9eab-288d248efcf0\">\n",
       "      Upload widget is only available when the cell has been executed in the\n",
       "      current browser session. Please rerun this cell to enable.\n",
       "      </output>\n",
       "      <script>// Copyright 2017 Google LLC\n",
       "//\n",
       "// Licensed under the Apache License, Version 2.0 (the \"License\");\n",
       "// you may not use this file except in compliance with the License.\n",
       "// You may obtain a copy of the License at\n",
       "//\n",
       "//      http://www.apache.org/licenses/LICENSE-2.0\n",
       "//\n",
       "// Unless required by applicable law or agreed to in writing, software\n",
       "// distributed under the License is distributed on an \"AS IS\" BASIS,\n",
       "// WITHOUT WARRANTIES OR CONDITIONS OF ANY KIND, either express or implied.\n",
       "// See the License for the specific language governing permissions and\n",
       "// limitations under the License.\n",
       "\n",
       "/**\n",
       " * @fileoverview Helpers for google.colab Python module.\n",
       " */\n",
       "(function(scope) {\n",
       "function span(text, styleAttributes = {}) {\n",
       "  const element = document.createElement('span');\n",
       "  element.textContent = text;\n",
       "  for (const key of Object.keys(styleAttributes)) {\n",
       "    element.style[key] = styleAttributes[key];\n",
       "  }\n",
       "  return element;\n",
       "}\n",
       "\n",
       "// Max number of bytes which will be uploaded at a time.\n",
       "const MAX_PAYLOAD_SIZE = 100 * 1024;\n",
       "\n",
       "function _uploadFiles(inputId, outputId) {\n",
       "  const steps = uploadFilesStep(inputId, outputId);\n",
       "  const outputElement = document.getElementById(outputId);\n",
       "  // Cache steps on the outputElement to make it available for the next call\n",
       "  // to uploadFilesContinue from Python.\n",
       "  outputElement.steps = steps;\n",
       "\n",
       "  return _uploadFilesContinue(outputId);\n",
       "}\n",
       "\n",
       "// This is roughly an async generator (not supported in the browser yet),\n",
       "// where there are multiple asynchronous steps and the Python side is going\n",
       "// to poll for completion of each step.\n",
       "// This uses a Promise to block the python side on completion of each step,\n",
       "// then passes the result of the previous step as the input to the next step.\n",
       "function _uploadFilesContinue(outputId) {\n",
       "  const outputElement = document.getElementById(outputId);\n",
       "  const steps = outputElement.steps;\n",
       "\n",
       "  const next = steps.next(outputElement.lastPromiseValue);\n",
       "  return Promise.resolve(next.value.promise).then((value) => {\n",
       "    // Cache the last promise value to make it available to the next\n",
       "    // step of the generator.\n",
       "    outputElement.lastPromiseValue = value;\n",
       "    return next.value.response;\n",
       "  });\n",
       "}\n",
       "\n",
       "/**\n",
       " * Generator function which is called between each async step of the upload\n",
       " * process.\n",
       " * @param {string} inputId Element ID of the input file picker element.\n",
       " * @param {string} outputId Element ID of the output display.\n",
       " * @return {!Iterable<!Object>} Iterable of next steps.\n",
       " */\n",
       "function* uploadFilesStep(inputId, outputId) {\n",
       "  const inputElement = document.getElementById(inputId);\n",
       "  inputElement.disabled = false;\n",
       "\n",
       "  const outputElement = document.getElementById(outputId);\n",
       "  outputElement.innerHTML = '';\n",
       "\n",
       "  const pickedPromise = new Promise((resolve) => {\n",
       "    inputElement.addEventListener('change', (e) => {\n",
       "      resolve(e.target.files);\n",
       "    });\n",
       "  });\n",
       "\n",
       "  const cancel = document.createElement('button');\n",
       "  inputElement.parentElement.appendChild(cancel);\n",
       "  cancel.textContent = 'Cancel upload';\n",
       "  const cancelPromise = new Promise((resolve) => {\n",
       "    cancel.onclick = () => {\n",
       "      resolve(null);\n",
       "    };\n",
       "  });\n",
       "\n",
       "  // Wait for the user to pick the files.\n",
       "  const files = yield {\n",
       "    promise: Promise.race([pickedPromise, cancelPromise]),\n",
       "    response: {\n",
       "      action: 'starting',\n",
       "    }\n",
       "  };\n",
       "\n",
       "  cancel.remove();\n",
       "\n",
       "  // Disable the input element since further picks are not allowed.\n",
       "  inputElement.disabled = true;\n",
       "\n",
       "  if (!files) {\n",
       "    return {\n",
       "      response: {\n",
       "        action: 'complete',\n",
       "      }\n",
       "    };\n",
       "  }\n",
       "\n",
       "  for (const file of files) {\n",
       "    const li = document.createElement('li');\n",
       "    li.append(span(file.name, {fontWeight: 'bold'}));\n",
       "    li.append(span(\n",
       "        `(${file.type || 'n/a'}) - ${file.size} bytes, ` +\n",
       "        `last modified: ${\n",
       "            file.lastModifiedDate ? file.lastModifiedDate.toLocaleDateString() :\n",
       "                                    'n/a'} - `));\n",
       "    const percent = span('0% done');\n",
       "    li.appendChild(percent);\n",
       "\n",
       "    outputElement.appendChild(li);\n",
       "\n",
       "    const fileDataPromise = new Promise((resolve) => {\n",
       "      const reader = new FileReader();\n",
       "      reader.onload = (e) => {\n",
       "        resolve(e.target.result);\n",
       "      };\n",
       "      reader.readAsArrayBuffer(file);\n",
       "    });\n",
       "    // Wait for the data to be ready.\n",
       "    let fileData = yield {\n",
       "      promise: fileDataPromise,\n",
       "      response: {\n",
       "        action: 'continue',\n",
       "      }\n",
       "    };\n",
       "\n",
       "    // Use a chunked sending to avoid message size limits. See b/62115660.\n",
       "    let position = 0;\n",
       "    do {\n",
       "      const length = Math.min(fileData.byteLength - position, MAX_PAYLOAD_SIZE);\n",
       "      const chunk = new Uint8Array(fileData, position, length);\n",
       "      position += length;\n",
       "\n",
       "      const base64 = btoa(String.fromCharCode.apply(null, chunk));\n",
       "      yield {\n",
       "        response: {\n",
       "          action: 'append',\n",
       "          file: file.name,\n",
       "          data: base64,\n",
       "        },\n",
       "      };\n",
       "\n",
       "      let percentDone = fileData.byteLength === 0 ?\n",
       "          100 :\n",
       "          Math.round((position / fileData.byteLength) * 100);\n",
       "      percent.textContent = `${percentDone}% done`;\n",
       "\n",
       "    } while (position < fileData.byteLength);\n",
       "  }\n",
       "\n",
       "  // All done.\n",
       "  yield {\n",
       "    response: {\n",
       "      action: 'complete',\n",
       "    }\n",
       "  };\n",
       "}\n",
       "\n",
       "scope.google = scope.google || {};\n",
       "scope.google.colab = scope.google.colab || {};\n",
       "scope.google.colab._files = {\n",
       "  _uploadFiles,\n",
       "  _uploadFilesContinue,\n",
       "};\n",
       "})(self);\n",
       "</script> "
      ],
      "text/plain": [
       "<IPython.core.display.HTML object>"
      ]
     },
     "metadata": {},
     "output_type": "display_data"
    },
    {
     "name": "stdout",
     "output_type": "stream",
     "text": [
      "Saving df_selected_output.csv to df_selected_output.csv\n"
     ]
    }
   ],
   "source": [
    "uploaded = files.upload()\n",
    "file_path = list(uploaded.keys())[0]  \n",
    "data = pd.read_csv(file_path)"
   ]
  },
  {
   "cell_type": "code",
   "execution_count": null,
   "metadata": {
    "colab": {
     "base_uri": "https://localhost:8080/"
    },
    "id": "k15M1cVx1Kol",
    "outputId": "a5960208-d9f3-4b94-85a2-ff885d62abce"
   },
   "outputs": [
    {
     "name": "stdout",
     "output_type": "stream",
     "text": [
      "✅ Dữ liệu sau khi chọn cột:\n",
      "   Customer Id  Order Id order date (DateOrders)  Order Item Total  \\\n",
      "0        20755     77202           1/1/2015 0:00        314.640015   \n",
      "1        19492     75939           1/1/2015 0:21        311.359985   \n",
      "2        19491     75938           1/1/2015 0:21        309.720001   \n",
      "3        19490     75937           1/1/2015 0:21        304.809998   \n",
      "4        19489     75936           1/1/2015 1:03        298.250000   \n",
      "\n",
      "   Days for shipping (real) Customer Segment   Category Name   Shipping Mode  \n",
      "0                         3         Consumer  Sporting Goods  Standard Class  \n",
      "1                         5         Consumer  Sporting Goods  Standard Class  \n",
      "2                         4         Consumer  Sporting Goods  Standard Class  \n",
      "3                         3      Home Office  Sporting Goods  Standard Class  \n",
      "4                         2        Corporate  Sporting Goods  Standard Class  \n",
      "<class 'pandas.core.frame.DataFrame'>\n",
      "RangeIndex: 180519 entries, 0 to 180518\n",
      "Data columns (total 8 columns):\n",
      " #   Column                    Non-Null Count   Dtype  \n",
      "---  ------                    --------------   -----  \n",
      " 0   Customer Id               180519 non-null  int64  \n",
      " 1   Order Id                  180519 non-null  int64  \n",
      " 2   order date (DateOrders)   180519 non-null  object \n",
      " 3   Order Item Total          180519 non-null  float64\n",
      " 4   Days for shipping (real)  180519 non-null  int64  \n",
      " 5   Customer Segment          180519 non-null  object \n",
      " 6   Category Name             180519 non-null  object \n",
      " 7   Shipping Mode             180519 non-null  object \n",
      "dtypes: float64(1), int64(3), object(4)\n",
      "memory usage: 11.0+ MB\n"
     ]
    }
   ],
   "source": [
    "columns_needed = [\n",
    "    'Customer Id',         # Mã khách hàng\n",
    "    'Order Id',             # Mã đơn hàng\n",
    "    'order date (DateOrders)',           # Ngày đặt hàng\n",
    "    'Order Item Total',     # Tổng giá trị đơn hàng\n",
    "    'Days for shipping (real)',    # Số ngày vận chuyển thực tế\n",
    "    'Customer Segment',     # Loại khách hàng (Consumer, Corporate, Home Office)\n",
    "    'Category Name',        # Tên danh mục sản phẩm\n",
    "    'Shipping Mode'         # Phương thức vận chuyển\n",
    "]\n",
    "\n",
    "df_selected = data[columns_needed]\n",
    "print(\"✅ Dữ liệu sau khi chọn cột:\")\n",
    "print(df_selected.head())\n",
    "df_selected.info()"
   ]
  },
  {
   "cell_type": "code",
   "execution_count": null,
   "metadata": {
    "colab": {
     "base_uri": "https://localhost:8080/"
    },
    "id": "ovonLpaO15Fe",
    "outputId": "af40cc84-af11-4c3b-aeae-fa35ba02578b"
   },
   "outputs": [
    {
     "name": "stdout",
     "output_type": "stream",
     "text": [
      "🔍 Checking missing values:\n",
      "Customer Id                 0\n",
      "Order Id                    0\n",
      "order date (DateOrders)     0\n",
      "Order Item Total            0\n",
      "Days for shipping (real)    0\n",
      "Customer Segment            0\n",
      "Category Name               0\n",
      "Shipping Mode               0\n",
      "dtype: int64\n"
     ]
    }
   ],
   "source": [
    "print(\"🔍 Checking missing values:\")\n",
    "print(df_selected.isnull().sum())\n",
    "\n",
    "df_selected = df_selected.drop_duplicates()"
   ]
  },
  {
   "cell_type": "markdown",
   "id": "b0380c16",
   "metadata": {},
   "source": [
    "# (2) Xây dựng mô hình LRFM"
   ]
  },
  {
   "cell_type": "code",
   "execution_count": 6,
   "metadata": {
    "colab": {
     "base_uri": "https://localhost:8080/"
    },
    "id": "qoflcefT2aJl",
    "outputId": "3cbbeea1-ff93-4dd2-bc9f-53662e1adb3c"
   },
   "outputs": [
    {
     "name": "stdout",
     "output_type": "stream",
     "text": [
      "['Customer Id', 'Order Id', 'order date (DateOrders)', 'Order Item Total', 'Days for shipping (real)', 'Customer Segment', 'Category Name', 'Shipping Mode']\n"
     ]
    }
   ],
   "source": [
    "print(df_selected.columns.tolist())"
   ]
  },
  {
   "cell_type": "code",
   "execution_count": 7,
   "metadata": {
    "colab": {
     "base_uri": "https://localhost:8080/"
    },
    "id": "HCMEikqj2kKP",
    "outputId": "b8e6ea87-e84e-41c1-c7eb-e695af2be89e"
   },
   "outputs": [
    {
     "name": "stdout",
     "output_type": "stream",
     "text": [
      "<class 'pandas.core.frame.DataFrame'>\n",
      "Index: 180518 entries, 0 to 180518\n",
      "Data columns (total 8 columns):\n",
      " #   Column        Non-Null Count   Dtype  \n",
      "---  ------        --------------   -----  \n",
      " 0   CustomerID    180518 non-null  int64  \n",
      " 1   OrderID       180518 non-null  int64  \n",
      " 2   OrderDate     180518 non-null  object \n",
      " 3   OrderTotal    180518 non-null  float64\n",
      " 4   DaysShipping  180518 non-null  int64  \n",
      " 5   Segment       180518 non-null  object \n",
      " 6   Category      180518 non-null  object \n",
      " 7   ShipMode      180518 non-null  object \n",
      "dtypes: float64(1), int64(3), object(4)\n",
      "memory usage: 12.4+ MB\n",
      "None\n"
     ]
    }
   ],
   "source": [
    "df_selected = df_selected.rename(columns={\n",
    "    'Customer Id': 'CustomerID',\n",
    "    'Order Id': 'OrderID',\n",
    "    'order date (DateOrders)': 'OrderDate',\n",
    "    'Order Item Total': 'OrderTotal',\n",
    "    'Days for shipping (real)': 'DaysShipping',\n",
    "    'Customer Segment': 'Segment',\n",
    "    'Category Name': 'Category',\n",
    "    'Shipping Mode': 'ShipMode'\n",
    "})\n",
    "\n",
    "print(df_selected.info())"
   ]
  },
  {
   "cell_type": "code",
   "execution_count": 8,
   "metadata": {
    "id": "dIHsQ4NY2qnG"
   },
   "outputs": [],
   "source": [
    "df_selected['OrderDate'] = pd.to_datetime(df_selected['OrderDate'], errors='coerce')"
   ]
  },
  {
   "cell_type": "code",
   "execution_count": null,
   "metadata": {
    "colab": {
     "base_uri": "https://localhost:8080/"
    },
    "id": "w40IWCuW2sxc",
    "outputId": "5a82dff8-719b-417e-da09-617d177b2efd"
   },
   "outputs": [
    {
     "name": "stdout",
     "output_type": "stream",
     "text": [
      "📅 Analysis date: 2018-02-01\n",
      "✅ LRFM Table Sample:\n",
      "   CustomerID  Recency  Length  Frequency     Monetary\n",
      "0           1     1074       0          1   472.450012\n",
      "1           2      286     787          4  1618.660042\n",
      "2           3       14     991          5  3189.200037\n",
      "3           4       33    1039          4  1480.709993\n",
      "4           5      262     826          3  1101.919998\n"
     ]
    }
   ],
   "source": [
    "df_selected['OrderDate'] = pd.to_datetime(df_selected['OrderDate'], errors='coerce')\n",
    "\n",
    "analysis_date = df_selected['OrderDate'].max() + pd.Timedelta(days=1)\n",
    "print(f\"📅 Analysis date: {analysis_date.date()}\")\n",
    "\n",
    "LRFM = df_selected.groupby('CustomerID').agg({\n",
    "    'OrderDate': [lambda x: (analysis_date - x.max()).days,     # Recency (R)\n",
    "                  lambda x: (x.max() - x.min()).days],           # Length (L)\n",
    "    'OrderID': 'nunique',                                        # Frequency (F)\n",
    "    'OrderTotal': 'sum'                                          # Monetary (M)\n",
    "})\n",
    "\n",
    "LRFM.columns = ['Recency', 'Length', 'Frequency', 'Monetary']\n",
    "LRFM = LRFM.reset_index()\n",
    "\n",
    "print(\"✅ LRFM Table Sample:\")\n",
    "print(LRFM.head())"
   ]
  },
  {
   "cell_type": "markdown",
   "metadata": {},
   "source": [
    "# (3) Phân cụm bằng K-Means"
   ]
  },
  {
   "cell_type": "code",
   "execution_count": null,
   "metadata": {
    "colab": {
     "base_uri": "https://localhost:8080/"
    },
    "id": "VitJO8xk3M_e",
    "outputId": "83b93791-e00a-44fd-cf70-ac78f5da63d4"
   },
   "outputs": [
    {
     "name": "stdout",
     "output_type": "stream",
     "text": [
      "Phân cụm K-Means hoàn tất! Dữ liệu mẫu:\n",
      "   CustomerID  Recency  Length  Frequency     Monetary  Cluster\n",
      "0           1     1074       0          1   472.450012        1\n",
      "1           2      286     787          4  1618.660042        2\n",
      "2           3       14     991          5  3189.200037        0\n",
      "3           4       33    1039          4  1480.709993        0\n",
      "4           5      262     826          3  1101.919998        2\n"
     ]
    }
   ],
   "source": [
    "LRFM = LRFM.dropna()\n",
    "scaler = MinMaxScaler()\n",
    "LRFM_scaled = scaler.fit_transform(LRFM[['Recency', 'Length', 'Frequency', 'Monetary']])\n",
    "kmeans = KMeans(n_clusters=4, random_state=42)\n",
    "clusters = kmeans.fit_predict(LRFM_scaled)\n",
    "LRFM['Cluster'] = clusters\n",
    "\n",
    "print(\"Phân cụm K-Means hoàn tất! Dữ liệu mẫu:\")\n",
    "print(LRFM.head())"
   ]
  },
  {
   "cell_type": "code",
   "execution_count": null,
   "metadata": {
    "id": "cuSgP9EwLR76"
   },
   "outputs": [],
   "source": [
    "customer_segment = df_selected[['CustomerID', 'Segment']].drop_duplicates()\n",
    "LRFM = pd.merge(LRFM, customer_segment, on='CustomerID', how='left')"
   ]
  },
  {
   "cell_type": "code",
   "execution_count": 12,
   "metadata": {
    "colab": {
     "base_uri": "https://localhost:8080/"
    },
    "id": "nzDkNlg9LUsX",
    "outputId": "7c3c53ab-eb03-49c9-b52f-9d0b7f735a92"
   },
   "outputs": [
    {
     "name": "stdout",
     "output_type": "stream",
     "text": [
      "   CustomerID  Recency  Length  Frequency     Monetary  Cluster      Segment\n",
      "0           1     1074       0          1   472.450012        1     Consumer\n",
      "1           2      286     787          4  1618.660042        2     Consumer\n",
      "2           3       14     991          5  3189.200037        0     Consumer\n",
      "3           4       33    1039          4  1480.709993        0     Consumer\n",
      "4           5      262     826          3  1101.919998        2  Home Office\n"
     ]
    }
   ],
   "source": [
    "print(LRFM.head())"
   ]
  },
  {
   "cell_type": "code",
   "execution_count": null,
   "metadata": {
    "colab": {
     "base_uri": "https://localhost:8080/"
    },
    "id": "ySYHV2pY3fXK",
    "outputId": "079b27ca-6499-4937-f17b-38f3dd3add4a"
   },
   "outputs": [
    {
     "name": "stdout",
     "output_type": "stream",
     "text": [
      "✅ Đã xuất file LRFM kèm Cluster + Segment:\n"
     ]
    }
   ],
   "source": [
    "LRFM.to_csv(\"LRFM_with_segment1.csv\", index=False)\n",
    "LRFM.to_excel(\"LRFM_with_segment1.xlsx\", index=False)\n",
    "print(\"✅ Đã xuất file LRFM kèm Cluster + Segment:\")"
   ]
  },
  {
   "cell_type": "code",
   "execution_count": null,
   "metadata": {
    "colab": {
     "base_uri": "https://localhost:8080/"
    },
    "id": "vZZ-wRAl3jRO",
    "outputId": "32bda244-c1a3-483c-93b1-57e13888fa74"
   },
   "outputs": [
    {
     "name": "stdout",
     "output_type": "stream",
     "text": [
      "📊 Bảng tổng hợp LRFM + số lượng khách:\n",
      "   Cluster  Num_Customers  Recency   Length  Frequency  Monetary\n",
      "0        0           5231  128.560  913.752      6.210  3481.299\n",
      "1        1           5969  852.257   12.599      1.072   305.145\n",
      "2        2           6052  286.644  650.269      3.787  1939.514\n",
      "3        3           3400  287.609   30.669      1.162   377.714\n"
     ]
    }
   ],
   "source": [
    "lr_avg = (\n",
    "    LRFM.groupby('Cluster')[['Recency', 'Length', 'Frequency', 'Monetary']]\n",
    "    .mean()\n",
    "    .round(3)\n",
    ")\n",
    "\n",
    "lr_count = LRFM['Cluster'].value_counts().sort_index().rename('Num_Customers')\n",
    "cluster_summary = pd.concat([lr_count, lr_avg], axis=1).reset_index()\n",
    "\n",
    "print(\"📊 Bảng tổng hợp LRFM + số lượng khách:\")\n",
    "print(cluster_summary)\n"
   ]
  },
  {
   "cell_type": "markdown",
   "id": "5e5416f8",
   "metadata": {},
   "source": [
    "# (4) Phân tích đặc trưng cụm"
   ]
  },
  {
   "cell_type": "code",
   "execution_count": null,
   "metadata": {
    "colab": {
     "base_uri": "https://localhost:8080/"
    },
    "id": "Oa8OM8vG3np9",
    "outputId": "76338c1b-0af8-4f98-b98e-5ac2426c199c"
   },
   "outputs": [
    {
     "name": "stdout",
     "output_type": "stream",
     "text": [
      "    Variable  Count (number of customers)     Mean  Standard Deviation   Min     25%     50%     75%      Max\n",
      "0     Length                       3400.0   30.669              83.912  0.00    0.00    0.00    0.00   401.00\n",
      "1    Recency                       3400.0  287.609             140.896  1.00  168.00  272.00  403.00   578.00\n",
      "2  Frequency                       3400.0    1.162               0.511  1.00    1.00    1.00    1.00     5.00\n",
      "3   Monetary                       3400.0  377.714             411.060  8.47   83.56  246.31  442.04  3392.37\n"
     ]
    }
   ],
   "source": [
    "def describe_cluster_detail(LRFM, cluster_id):\n",
    "    cluster_df = LRFM[LRFM['Cluster'] == cluster_id]\n",
    "    stats = cluster_df[['Length','Recency', 'Frequency', 'Monetary']].describe().T\n",
    "    stats = stats.rename(columns={\n",
    "        'count': 'Count (number of customers)',\n",
    "        'mean': 'Mean',\n",
    "        'std': 'Standard Deviation',\n",
    "        'min': 'Min',\n",
    "        '25%': '25%',\n",
    "        '50%': '50%',\n",
    "        '75%': '75%',\n",
    "        'max': 'Max'\n",
    "    })\n",
    "    stats.insert(0, 'Variable', stats.index)\n",
    "    return stats.reset_index(drop=True).round(3)\n",
    "cluster_0_stats = describe_cluster_detail(LRFM, cluster_id=3)\n",
    "print(cluster_0_stats.to_string())"
   ]
  },
  {
   "cell_type": "markdown",
   "metadata": {},
   "source": [
    "# (5) Kiểm định giả thuyết thống kê"
   ]
  },
  {
   "cell_type": "code",
   "execution_count": null,
   "metadata": {
    "colab": {
     "base_uri": "https://localhost:8080/"
    },
    "id": "O9GOA3_73sod",
    "outputId": "dd708bbd-079c-4781-a965-0e76810d8783"
   },
   "outputs": [
    {
     "name": "stdout",
     "output_type": "stream",
     "text": [
      "📊 Kết quả MANOVA:\n",
      "                     Multivariate linear model\n",
      "====================================================================\n",
      "                                                                    \n",
      "--------------------------------------------------------------------\n",
      "       Intercept         Value  Num DF   Den DF     F Value   Pr > F\n",
      "--------------------------------------------------------------------\n",
      "          Wilks' lambda  0.0356 4.0000 20645.0000 139716.7541 0.0000\n",
      "         Pillai's trace  0.9644 4.0000 20645.0000 139716.7541 0.0000\n",
      " Hotelling-Lawley trace 27.0703 4.0000 20645.0000 139716.7541 0.0000\n",
      "    Roy's greatest root 27.0703 4.0000 20645.0000 139716.7541 0.0000\n",
      "--------------------------------------------------------------------\n",
      "                                                                    \n",
      "--------------------------------------------------------------------\n",
      "       C(Cluster)        Value   Num DF   Den DF    F Value   Pr > F\n",
      "--------------------------------------------------------------------\n",
      "          Wilks' lambda  0.0194 12.0000 54621.8273 15638.2536 0.0000\n",
      "         Pillai's trace  1.6579 12.0000 61941.0000  6376.6092 0.0000\n",
      " Hotelling-Lawley trace 18.2657 12.0000 36124.4377 31423.3959 0.0000\n",
      "    Roy's greatest root 16.4818  4.0000 20647.0000 85074.7997 0.0000\n",
      "====================================================================\n",
      "\n"
     ]
    }
   ],
   "source": [
    "manova = MANOVA.from_formula('Recency + Length + Frequency + Monetary ~ C(Cluster)', data=LRFM)\n",
    "manova_result = manova.mv_test()\n",
    "print(\"📊 Kết quả MANOVA:\")\n",
    "print(manova_result)"
   ]
  },
  {
   "cell_type": "markdown",
   "metadata": {},
   "source": [
    "# (6) Phân tích vòng đời và giá trị khách hàng"
   ]
  },
  {
   "cell_type": "code",
   "execution_count": null,
   "metadata": {
    "colab": {
     "base_uri": "https://localhost:8080/"
    },
    "id": "rMsQIK3s6mU2",
    "outputId": "e66409be-1164-466d-a6b2-cf101016c8a5"
   },
   "outputs": [
    {
     "name": "stdout",
     "output_type": "stream",
     "text": [
      "📊 CLV trung bình theo từng cụm khách hàng:\n",
      "   Cluster      Avg_CLV\n",
      "0        0  8622.116420\n",
      "1        1    36.972006\n",
      "2        2  3466.455400\n",
      "3        3    82.791523\n",
      "\n",
      "\n",
      "📊 CLV trung bình theo từng Segment:\n",
      "       Segment  Avg_CLV_Segment\n",
      "0     Consumer      3385.633358\n",
      "1    Corporate      3090.229713\n",
      "2  Home Office      2983.906455\n"
     ]
    }
   ],
   "source": [
    "LRFM['AvgOrderValue'] = LRFM['Monetary'] / LRFM['Frequency']\n",
    "LRFM['LifetimeYear'] = LRFM['Length'] / 365\n",
    "LRFM['CLV'] = LRFM['AvgOrderValue'] * LRFM['Frequency'] * LRFM['LifetimeYear']\n",
    "\n",
    "clv_by_cluster = LRFM.groupby(\"Cluster\")['CLV'].mean().reset_index()\n",
    "clv_by_cluster = clv_by_cluster.rename(columns={\"CLV\": \"Avg_CLV\"})\n",
    "\n",
    "clv_by_segment = LRFM.groupby(\"Segment\")[\"CLV\"].mean().reset_index()\n",
    "clv_by_segment = clv_by_segment.rename(columns={\"CLV\": \"Avg_CLV_Segment\"})\n",
    "\n",
    "print(\"📊 CLV trung bình theo từng cụm khách hàng:\")\n",
    "print(clv_by_cluster)\n",
    "print(\"\\n\")\n",
    "print(\"📊 CLV trung bình theo từng Segment:\")\n",
    "print(clv_by_segment)"
   ]
  }
 ],
 "metadata": {
  "colab": {
   "provenance": []
  },
  "kernelspec": {
   "display_name": "Python 3",
   "name": "python3"
  },
  "language_info": {
   "name": "python"
  }
 },
 "nbformat": 4,
 "nbformat_minor": 0
}
